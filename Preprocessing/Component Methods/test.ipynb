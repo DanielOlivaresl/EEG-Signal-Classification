{
 "cells": [
  {
   "cell_type": "code",
   "execution_count": 38,
   "metadata": {},
   "outputs": [],
   "source": [
    "import numpy as np\n",
    "import sys\n",
    "import os\n",
    "\n",
    "sys.path.append(os.path.abspath('..'))\n",
    "import signalConditioning\n"
   ]
  },
  {
   "cell_type": "code",
   "execution_count": 39,
   "metadata": {},
   "outputs": [
    {
     "name": "stdout",
     "output_type": "stream",
     "text": [
      "../../Data/Labels\n",
      "['sub-10_ses-0_labels.npy', 'sub-10_ses-10_labels.npy', 'sub-10_ses-11_labels.npy', 'sub-10_ses-12_labels.npy', 'sub-10_ses-13_labels.npy', 'sub-10_ses-14_labels.npy', 'sub-10_ses-1_labels.npy', 'sub-10_ses-2_labels.npy', 'sub-10_ses-3_labels.npy', 'sub-10_ses-4_labels.npy', 'sub-10_ses-5_labels.npy', 'sub-10_ses-6_labels.npy', 'sub-10_ses-7_labels.npy', 'sub-10_ses-8_labels.npy', 'sub-10_ses-9_labels.npy', 'sub-11_ses-0_labels.npy', 'sub-11_ses-10_labels.npy', 'sub-11_ses-11_labels.npy', 'sub-11_ses-12_labels.npy', 'sub-11_ses-13_labels.npy', 'sub-11_ses-14_labels.npy', 'sub-11_ses-1_labels.npy', 'sub-11_ses-2_labels.npy', 'sub-11_ses-3_labels.npy', 'sub-11_ses-4_labels.npy', 'sub-11_ses-5_labels.npy', 'sub-11_ses-6_labels.npy', 'sub-11_ses-7_labels.npy', 'sub-11_ses-8_labels.npy', 'sub-11_ses-9_labels.npy', 'sub-1_ses-0_labels.npy', 'sub-1_ses-10_labels.npy', 'sub-1_ses-11_labels.npy', 'sub-1_ses-12_labels.npy', 'sub-1_ses-13_labels.npy', 'sub-1_ses-14_labels.npy', 'sub-1_ses-1_labels.npy', 'sub-1_ses-2_labels.npy', 'sub-1_ses-3_labels.npy', 'sub-1_ses-4_labels.npy', 'sub-1_ses-5_labels.npy', 'sub-1_ses-6_labels.npy', 'sub-1_ses-7_labels.npy', 'sub-1_ses-8_labels.npy', 'sub-1_ses-9_labels.npy', 'sub-2_ses-0_labels.npy', 'sub-2_ses-10_labels.npy', 'sub-2_ses-11_labels.npy', 'sub-2_ses-12_labels.npy', 'sub-2_ses-13_labels.npy', 'sub-2_ses-14_labels.npy', 'sub-2_ses-1_labels.npy', 'sub-2_ses-2_labels.npy', 'sub-2_ses-3_labels.npy', 'sub-2_ses-4_labels.npy', 'sub-2_ses-5_labels.npy', 'sub-2_ses-6_labels.npy', 'sub-2_ses-7_labels.npy', 'sub-2_ses-8_labels.npy', 'sub-2_ses-9_labels.npy', 'sub-3_ses-0_labels.npy', 'sub-3_ses-10_labels.npy', 'sub-3_ses-11_labels.npy', 'sub-3_ses-12_labels.npy', 'sub-3_ses-13_labels.npy', 'sub-3_ses-14_labels.npy', 'sub-3_ses-15_labels.npy', 'sub-3_ses-16_labels.npy', 'sub-3_ses-17_labels.npy', 'sub-3_ses-18_labels.npy', 'sub-3_ses-19_labels.npy', 'sub-3_ses-1_labels.npy', 'sub-3_ses-20_labels.npy', 'sub-3_ses-2_labels.npy', 'sub-3_ses-3_labels.npy', 'sub-3_ses-4_labels.npy', 'sub-3_ses-5_labels.npy', 'sub-3_ses-6_labels.npy', 'sub-3_ses-7_labels.npy', 'sub-3_ses-8_labels.npy', 'sub-3_ses-9_labels.npy', 'sub-4_ses-0_labels.npy', 'sub-4_ses-10_labels.npy', 'sub-4_ses-11_labels.npy', 'sub-4_ses-12_labels.npy', 'sub-4_ses-13_labels.npy', 'sub-4_ses-14_labels.npy', 'sub-4_ses-1_labels.npy', 'sub-4_ses-2_labels.npy', 'sub-4_ses-3_labels.npy', 'sub-4_ses-4_labels.npy', 'sub-4_ses-5_labels.npy', 'sub-4_ses-6_labels.npy', 'sub-4_ses-7_labels.npy', 'sub-4_ses-8_labels.npy', 'sub-4_ses-9_labels.npy', 'sub-5_ses-0_labels.npy', 'sub-5_ses-10_labels.npy', 'sub-5_ses-11_labels.npy', 'sub-5_ses-12_labels.npy', 'sub-5_ses-13_labels.npy', 'sub-5_ses-14_labels.npy', 'sub-5_ses-1_labels.npy', 'sub-5_ses-2_labels.npy', 'sub-5_ses-3_labels.npy', 'sub-5_ses-4_labels.npy', 'sub-5_ses-5_labels.npy', 'sub-5_ses-6_labels.npy', 'sub-5_ses-7_labels.npy', 'sub-5_ses-8_labels.npy', 'sub-5_ses-9_labels.npy', 'sub-6_ses-0_labels.npy', 'sub-6_ses-10_labels.npy', 'sub-6_ses-11_labels.npy', 'sub-6_ses-12_labels.npy', 'sub-6_ses-13_labels.npy', 'sub-6_ses-14_labels.npy', 'sub-6_ses-1_labels.npy', 'sub-6_ses-2_labels.npy', 'sub-6_ses-3_labels.npy', 'sub-6_ses-4_labels.npy', 'sub-6_ses-5_labels.npy', 'sub-6_ses-6_labels.npy', 'sub-6_ses-7_labels.npy', 'sub-6_ses-8_labels.npy', 'sub-6_ses-9_labels.npy', 'sub-7_ses-0_labels.npy', 'sub-7_ses-10_labels.npy', 'sub-7_ses-11_labels.npy', 'sub-7_ses-12_labels.npy', 'sub-7_ses-13_labels.npy', 'sub-7_ses-14_labels.npy', 'sub-7_ses-1_labels.npy', 'sub-7_ses-2_labels.npy', 'sub-7_ses-3_labels.npy', 'sub-7_ses-4_labels.npy', 'sub-7_ses-5_labels.npy', 'sub-7_ses-6_labels.npy', 'sub-7_ses-7_labels.npy', 'sub-7_ses-8_labels.npy', 'sub-7_ses-9_labels.npy', 'sub-8_ses-0_labels.npy', 'sub-8_ses-10_labels.npy', 'sub-8_ses-11_labels.npy', 'sub-8_ses-12_labels.npy', 'sub-8_ses-13_labels.npy', 'sub-8_ses-14_labels.npy', 'sub-8_ses-1_labels.npy', 'sub-8_ses-2_labels.npy', 'sub-8_ses-3_labels.npy', 'sub-8_ses-4_labels.npy', 'sub-8_ses-5_labels.npy', 'sub-8_ses-6_labels.npy', 'sub-8_ses-7_labels.npy', 'sub-8_ses-8_labels.npy', 'sub-8_ses-9_labels.npy', 'sub-9_ses-0_labels.npy', 'sub-9_ses-10_labels.npy', 'sub-9_ses-11_labels.npy', 'sub-9_ses-12_labels.npy', 'sub-9_ses-13_labels.npy', 'sub-9_ses-14_labels.npy', 'sub-9_ses-1_labels.npy', 'sub-9_ses-2_labels.npy', 'sub-9_ses-3_labels.npy', 'sub-9_ses-4_labels.npy', 'sub-9_ses-5_labels.npy', 'sub-9_ses-6_labels.npy', 'sub-9_ses-7_labels.npy', 'sub-9_ses-8_labels.npy', 'sub-9_ses-9_labels.npy']\n",
      "sub-10_ses-0_labels.npy\n",
      "sub-10_ses-10_labels.npy\n",
      "sub-10_ses-11_labels.npy\n",
      "sub-10_ses-12_labels.npy\n",
      "sub-10_ses-13_labels.npy\n",
      "sub-10_ses-14_labels.npy\n",
      "sub-10_ses-1_labels.npy\n",
      "sub-10_ses-2_labels.npy\n",
      "sub-10_ses-3_labels.npy\n",
      "sub-10_ses-4_labels.npy\n",
      "sub-10_ses-5_labels.npy\n",
      "sub-10_ses-6_labels.npy\n",
      "sub-10_ses-7_labels.npy\n",
      "sub-10_ses-8_labels.npy\n",
      "sub-10_ses-9_labels.npy\n",
      "sub-11_ses-0_labels.npy\n",
      "sub-11_ses-10_labels.npy\n",
      "sub-11_ses-11_labels.npy\n",
      "sub-11_ses-12_labels.npy\n",
      "sub-11_ses-13_labels.npy\n",
      "sub-11_ses-14_labels.npy\n",
      "sub-11_ses-1_labels.npy\n",
      "sub-11_ses-2_labels.npy\n",
      "sub-11_ses-3_labels.npy\n",
      "sub-11_ses-4_labels.npy\n",
      "sub-11_ses-5_labels.npy\n",
      "sub-11_ses-6_labels.npy\n",
      "sub-11_ses-7_labels.npy\n",
      "sub-11_ses-8_labels.npy\n",
      "sub-11_ses-9_labels.npy\n",
      "sub-1_ses-0_labels.npy\n",
      "sub-1_ses-10_labels.npy\n",
      "sub-1_ses-11_labels.npy\n",
      "sub-1_ses-12_labels.npy\n",
      "sub-1_ses-13_labels.npy\n",
      "sub-1_ses-14_labels.npy\n",
      "sub-1_ses-1_labels.npy\n",
      "sub-1_ses-2_labels.npy\n",
      "sub-1_ses-3_labels.npy\n",
      "sub-1_ses-4_labels.npy\n",
      "sub-1_ses-5_labels.npy\n",
      "sub-1_ses-6_labels.npy\n",
      "sub-1_ses-7_labels.npy\n",
      "sub-1_ses-8_labels.npy\n",
      "sub-1_ses-9_labels.npy\n",
      "sub-2_ses-0_labels.npy\n",
      "sub-2_ses-10_labels.npy\n",
      "sub-2_ses-11_labels.npy\n",
      "sub-2_ses-12_labels.npy\n",
      "sub-2_ses-13_labels.npy\n",
      "sub-2_ses-14_labels.npy\n",
      "sub-2_ses-1_labels.npy\n",
      "sub-2_ses-2_labels.npy\n",
      "sub-2_ses-3_labels.npy\n",
      "sub-2_ses-4_labels.npy\n",
      "sub-2_ses-5_labels.npy\n",
      "sub-2_ses-6_labels.npy\n",
      "sub-2_ses-7_labels.npy\n",
      "sub-2_ses-8_labels.npy\n",
      "sub-2_ses-9_labels.npy\n",
      "sub-3_ses-0_labels.npy\n",
      "sub-3_ses-10_labels.npy\n",
      "sub-3_ses-11_labels.npy\n",
      "sub-3_ses-12_labels.npy\n",
      "sub-3_ses-13_labels.npy\n",
      "sub-3_ses-14_labels.npy\n",
      "sub-3_ses-15_labels.npy\n",
      "sub-3_ses-16_labels.npy\n",
      "sub-3_ses-17_labels.npy\n",
      "sub-3_ses-18_labels.npy\n",
      "sub-3_ses-19_labels.npy\n",
      "sub-3_ses-1_labels.npy\n",
      "sub-3_ses-20_labels.npy\n",
      "sub-3_ses-2_labels.npy\n",
      "sub-3_ses-3_labels.npy\n",
      "sub-3_ses-4_labels.npy\n",
      "sub-3_ses-5_labels.npy\n",
      "sub-3_ses-6_labels.npy\n",
      "sub-3_ses-7_labels.npy\n",
      "sub-3_ses-8_labels.npy\n",
      "sub-3_ses-9_labels.npy\n",
      "sub-4_ses-0_labels.npy\n",
      "sub-4_ses-10_labels.npy\n",
      "sub-4_ses-11_labels.npy\n",
      "sub-4_ses-12_labels.npy\n",
      "sub-4_ses-13_labels.npy\n",
      "sub-4_ses-14_labels.npy\n",
      "sub-4_ses-1_labels.npy\n",
      "sub-4_ses-2_labels.npy\n",
      "sub-4_ses-3_labels.npy\n",
      "sub-4_ses-4_labels.npy\n",
      "sub-4_ses-5_labels.npy\n",
      "sub-4_ses-6_labels.npy\n",
      "sub-4_ses-7_labels.npy\n",
      "sub-4_ses-8_labels.npy\n",
      "sub-4_ses-9_labels.npy\n",
      "sub-5_ses-0_labels.npy\n",
      "sub-5_ses-10_labels.npy\n",
      "sub-5_ses-11_labels.npy\n",
      "sub-5_ses-12_labels.npy\n",
      "sub-5_ses-13_labels.npy\n",
      "sub-5_ses-14_labels.npy\n",
      "sub-5_ses-1_labels.npy\n",
      "sub-5_ses-2_labels.npy\n",
      "sub-5_ses-3_labels.npy\n",
      "sub-5_ses-4_labels.npy\n",
      "sub-5_ses-5_labels.npy\n",
      "sub-5_ses-6_labels.npy\n",
      "sub-5_ses-7_labels.npy\n",
      "sub-5_ses-8_labels.npy\n",
      "sub-5_ses-9_labels.npy\n",
      "sub-6_ses-0_labels.npy\n",
      "sub-6_ses-10_labels.npy\n",
      "sub-6_ses-11_labels.npy\n",
      "sub-6_ses-12_labels.npy\n",
      "sub-6_ses-13_labels.npy\n",
      "sub-6_ses-14_labels.npy\n",
      "sub-6_ses-1_labels.npy\n",
      "sub-6_ses-2_labels.npy\n",
      "sub-6_ses-3_labels.npy\n",
      "sub-6_ses-4_labels.npy\n",
      "sub-6_ses-5_labels.npy\n",
      "sub-6_ses-6_labels.npy\n",
      "sub-6_ses-7_labels.npy\n",
      "sub-6_ses-8_labels.npy\n",
      "sub-6_ses-9_labels.npy\n",
      "sub-7_ses-0_labels.npy\n",
      "sub-7_ses-10_labels.npy\n",
      "sub-7_ses-11_labels.npy\n",
      "sub-7_ses-12_labels.npy\n",
      "sub-7_ses-13_labels.npy\n",
      "sub-7_ses-14_labels.npy\n",
      "sub-7_ses-1_labels.npy\n",
      "sub-7_ses-2_labels.npy\n",
      "sub-7_ses-3_labels.npy\n",
      "sub-7_ses-4_labels.npy\n",
      "sub-7_ses-5_labels.npy\n",
      "sub-7_ses-6_labels.npy\n",
      "sub-7_ses-7_labels.npy\n",
      "sub-7_ses-8_labels.npy\n",
      "sub-7_ses-9_labels.npy\n",
      "sub-8_ses-0_labels.npy\n",
      "sub-8_ses-10_labels.npy\n",
      "sub-8_ses-11_labels.npy\n",
      "sub-8_ses-12_labels.npy\n",
      "sub-8_ses-13_labels.npy\n",
      "sub-8_ses-14_labels.npy\n",
      "sub-8_ses-1_labels.npy\n",
      "sub-8_ses-2_labels.npy\n",
      "sub-8_ses-3_labels.npy\n",
      "sub-8_ses-4_labels.npy\n",
      "sub-8_ses-5_labels.npy\n",
      "sub-8_ses-6_labels.npy\n",
      "sub-8_ses-7_labels.npy\n",
      "sub-8_ses-8_labels.npy\n",
      "sub-8_ses-9_labels.npy\n",
      "sub-9_ses-0_labels.npy\n",
      "sub-9_ses-10_labels.npy\n",
      "sub-9_ses-11_labels.npy\n",
      "sub-9_ses-12_labels.npy\n",
      "sub-9_ses-13_labels.npy\n",
      "sub-9_ses-14_labels.npy\n",
      "sub-9_ses-1_labels.npy\n",
      "sub-9_ses-2_labels.npy\n",
      "sub-9_ses-3_labels.npy\n",
      "sub-9_ses-4_labels.npy\n",
      "sub-9_ses-5_labels.npy\n",
      "sub-9_ses-6_labels.npy\n",
      "sub-9_ses-7_labels.npy\n",
      "sub-9_ses-8_labels.npy\n",
      "sub-9_ses-9_labels.npy\n"
     ]
    }
   ],
   "source": [
    "#We load in the Raw EEG Signals\n",
    "path = \"../../Data\"\n",
    "files = os.listdir(path)\n",
    "\n",
    "raw_signals = []\n",
    "labels = [] \n",
    "\n",
    "for file in files[1:]:\n",
    "     \n",
    "    raw_signals.append(np.load(f\"{path}/{file}\"))    \n",
    "\n",
    "\n",
    "labels_path = path + \"/Labels\"\n",
    "print(labels_path)\n",
    "print(os.listdir(labels_path))\n",
    "\n",
    "for file in os.listdir(labels_path):\n",
    "    print(file)\n",
    "    labels.append(np.load(f\"{labels_path}/{file}\",allow_pickle=True))\n",
    "\n",
    "\n",
    "\n",
    "# labels = np.load(\"../../Data/labels.npy\")"
   ]
  },
  {
   "cell_type": "markdown",
   "metadata": {},
   "source": [
    "##### **We will now start with the cleaning process of the signals, starting by applying a passband filter to remove unwanted frequencies** #####"
   ]
  },
  {
   "cell_type": "code",
   "execution_count": 4,
   "metadata": {},
   "outputs": [
    {
     "name": "stdout",
     "output_type": "stream",
     "text": [
      "(16632, 8, 1000)\n"
     ]
    }
   ],
   "source": [
    "\n",
    "data = signalConditioning.bandPassFilter(raw_signals,fs= 250)\n",
    "print(data.shape)"
   ]
  },
  {
   "cell_type": "markdown",
   "metadata": {},
   "source": [
    "##### **Now that we've applied the bandpass filter we will now apply a notch filter to remove the interferences from the electricity** #####"
   ]
  },
  {
   "cell_type": "code",
   "execution_count": 5,
   "metadata": {},
   "outputs": [
    {
     "name": "stdout",
     "output_type": "stream",
     "text": [
      "(16632, 8, 1000)\n"
     ]
    }
   ],
   "source": [
    "data = signalConditioning.notchFilter(data, fs=250)\n",
    "print(data.shape)"
   ]
  },
  {
   "cell_type": "markdown",
   "metadata": {},
   "source": [
    "##### **Now we will apply mean referencing to remove the common noise in between each of the channels** ######"
   ]
  },
  {
   "cell_type": "code",
   "execution_count": 6,
   "metadata": {},
   "outputs": [
    {
     "name": "stdout",
     "output_type": "stream",
     "text": [
      "(16632, 8, 1000)\n"
     ]
    }
   ],
   "source": [
    "data = signalConditioning.mean_referencing(data)\n",
    "print(data.shape)"
   ]
  },
  {
   "cell_type": "markdown",
   "metadata": {},
   "source": [
    "##### **We will now scale the signal so that the time series can be comparable** ####"
   ]
  },
  {
   "cell_type": "code",
   "execution_count": 1,
   "metadata": {},
   "outputs": [
    {
     "ename": "NameError",
     "evalue": "name 'signalConditioning' is not defined",
     "output_type": "error",
     "traceback": [
      "\u001b[1;31m---------------------------------------------------------------------------\u001b[0m",
      "\u001b[1;31mNameError\u001b[0m                                 Traceback (most recent call last)",
      "Cell \u001b[1;32mIn[1], line 1\u001b[0m\n\u001b[1;32m----> 1\u001b[0m data \u001b[38;5;241m=\u001b[39m \u001b[43msignalConditioning\u001b[49m\u001b[38;5;241m.\u001b[39mscale_signal(data)\n\u001b[0;32m      2\u001b[0m \u001b[38;5;28mprint\u001b[39m(data\u001b[38;5;241m.\u001b[39mshape)\n",
      "\u001b[1;31mNameError\u001b[0m: name 'signalConditioning' is not defined"
     ]
    }
   ],
   "source": [
    "data = signalConditioning.scale_signal(data)\n",
    "print(data.shape)"
   ]
  },
  {
   "cell_type": "markdown",
   "metadata": {},
   "source": [
    "#### **Now we will normalize the signal so that the models and more complex methods can learn better** ####"
   ]
  },
  {
   "cell_type": "markdown",
   "metadata": {},
   "source": []
  },
  {
   "cell_type": "markdown",
   "metadata": {},
   "source": []
  }
 ],
 "metadata": {
  "kernelspec": {
   "display_name": "Python 3",
   "language": "python",
   "name": "python3"
  },
  "language_info": {
   "codemirror_mode": {
    "name": "ipython",
    "version": 3
   },
   "file_extension": ".py",
   "mimetype": "text/x-python",
   "name": "python",
   "nbconvert_exporter": "python",
   "pygments_lexer": "ipython3",
   "version": "3.11.9"
  }
 },
 "nbformat": 4,
 "nbformat_minor": 2
}
